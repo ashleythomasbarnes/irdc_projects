{
 "cells": [
  {
   "cell_type": "markdown",
   "metadata": {},
   "source": [
    "# CO Freezeout \n",
    "Script to calculate the freeze-out from C18O "
   ]
  },
  {
   "cell_type": "code",
   "execution_count": 1,
   "metadata": {},
   "outputs": [],
   "source": [
    "import numpy as np\n",
    "import matplotlib.pyplot as plt\n",
    "from astropy.io import fits\n",
    "import astropy.units as u\n",
    "import astropy.constants as const\n",
    "\n",
    "import math\n",
    "from astropy.constants import h, k_B, c"
   ]
  },
  {
   "cell_type": "code",
   "execution_count": null,
   "metadata": {},
   "outputs": [],
   "source": [
    "hdu_c180 = fits.open('./data/c18o_mom0_reprojected.fits')[0]\n",
    "\n",
    "hdu_N_H2 = fits.open('./data/coldense_H2.fits')[0]"
   ]
  },
  {
   "cell_type": "code",
   "execution_count": null,
   "metadata": {},
   "outputs": [
    {
     "name": "stdout",
     "output_type": "stream",
     "text": [
      "3.1971731898702926\n",
      "C18O Column Density (cm^-2) at 1 K/kms: 5.12e+19\n"
     ]
    }
   ],
   "source": [
    "def compute_g_j(j):\n",
    "    \"\"\"g-factors from quantum numbers\"\"\"\n",
    "    return (2 * j) + 1\n",
    "\n",
    "def compute_wavelength(freq):\n",
    "    \"\"\"Wavelength (m) from the frequency (Hz)\"\"\"\n",
    "    return (c / freq).to(u.cm)\n",
    "\n",
    "def compute_E_j(j, B):\n",
    "    \"\"\"Energy of the energy of level (J)\"\"\"\n",
    "    return j * (j + 1) * h * B\n",
    "\n",
    "def _compute_Q_rot(j, E_j, T_ex):\n",
    "    \"\"\"Compute the partition function for a molecule given the excitation temperature and rotational constant.\"\"\"\n",
    "    return (2 * j + 1) * np.exp((-E_j / (k_B * T_ex)).decompose().value)\n",
    "\n",
    "def compute_partition_function(T_ex, B, maxJ=10):\n",
    "    \"\"\"\n",
    "    Compute the partition function for a molecule given the excitation\n",
    "    temperature and rotational constant.\n",
    "    \"\"\"\n",
    "    Q_rot = 0.0\n",
    "    for j in range(maxJ):\n",
    "        E_j = compute_E_j(j, B)\n",
    "        Q_rot += _compute_Q_rot(j, E_j, T_ex)\n",
    "    return Q_rot\n",
    "\n",
    "def compute_J_T(T, freq):\n",
    "    \"\"\"equivalent Rayleigh-Jeans temperatures\"\"\"\n",
    "    return (h * freq / k_B) / (np.exp((h * freq / (k_B * T)).decompose().value) - 1.0)\n",
    "\n",
    "def compute_column_density(I, eI, T_ex, T_bg,\n",
    "                           freq, A, B, q_l, q_u, maxJ=10):\n",
    "    \"\"\"\n",
    "    Compute the column density and its error for a molecular transition,\n",
    "    given its integrated intensity (in K km/s) and associated error.\n",
    "\n",
    "    Parameters\n",
    "    ----------\n",
    "    I : astropy.units.Quantity\n",
    "        Integrated intensity in K km/s.\n",
    "    eI : astropy.units.Quantity\n",
    "        Uncertainty in the integrated intensity (same units as I).\n",
    "    T_ex : float\n",
    "        Excitation temperature in K.\n",
    "    T_bg : float\n",
    "        Background temperature in K.\n",
    "    freq : astropy.units.Quantity\n",
    "        Transition frequency (e.g., in Hz).\n",
    "    A : float\n",
    "        Einstein A coefficient (s^-1).\n",
    "    B : astropy.units.Quantity\n",
    "        Rotational constant (in Hz).\n",
    "    l : float\n",
    "        Lower rotational quantum number.\n",
    "    u : float\n",
    "        Upper rotational quantum number.\n",
    "    maxJ : int, optional\n",
    "        Maximum quantum number used in the partition function sum (default=10).\n",
    "        \n",
    "    Returns\n",
    "    -------\n",
    "    N : astropy.units.Quantity\n",
    "        Column density in cm^-2.\n",
    "    eN : astropy.units.Quantity\n",
    "        Uncertainty in the column density in cm^-2.\n",
    "    \"\"\"\n",
    "    # -----------------------------\n",
    "    # Fundamental constants and derived quantities\n",
    "    # -----------------------------\n",
    "    # g-factors from quantum numbers\n",
    "    g_l = compute_g_j(q_l)\n",
    "    g_u = compute_g_j(q_u)\n",
    "\n",
    "    # Wavelength (m) from the frequency (Hz)\n",
    "    wavelength = compute_wavelength(freq) # c in m/s, freq in Hz → wavelength in m\n",
    "    print('Wavelength', wavelength)\n",
    "    print('hv/k', (h * freq / k_B).to('K'))\n",
    "\n",
    "    # Energy of the lower level (J)\n",
    "    E_l = compute_E_j(q_l, B)\n",
    "    print('E_l', E_l)\n",
    "\n",
    "    # -----------------------------\n",
    "    # Partition function: Q_rot = sum_{j=0}^{maxJ-1} (2j+1) exp[-E_j/(k_B T_ex)]\n",
    "    # where E_j = j(j+1) h B.\n",
    "    # -----------------------------\n",
    "    Q_rot = compute_partition_function(T_ex, B, maxJ=maxJ)\n",
    "    print('Q_rot', Q_rot)\n",
    "    \n",
    "    # -----------------------------\n",
    "    # Brightness temperature correction:\n",
    "    # J(T) = (h*nu/k_B) / (exp(h*nu/(k_B*T)) - 1)\n",
    "    # -----------------------------\n",
    "    # Note: we use .decompose().value to work with dimensionless arguments inside np.exp.\n",
    "    J_ex = compute_J_T(T_ex, freq)\n",
    "    J_bg = compute_J_T(T_bg, freq)\n",
    "    print('J_ex', J_ex)\n",
    "    print('J_bg', J_bg)\n",
    "    \n",
    "    # -----------------------------\n",
    "    # Compute the prefactor (fcol) in the column density equation:\n",
    "    #\n",
    "    # N = fcol * (integrated intensity)    where:\n",
    "    #\n",
    "    #   fcol = (8π/(λ^3 A)) * (g_l/g_u) * 1/(J_ex - J_bg) *\n",
    "    #          1/(1 - exp(-h*freq/(k_B*T_ex))) * Q_rot *\n",
    "    #          1/(g_l * exp(-E_l/(k_B*T_ex)))\n",
    "    # -----------------------------\n",
    "    top_factor      = (8 * np.pi) / (wavelength**3 * A)\n",
    "    factor_degen    = g_l / g_u\n",
    "    factor_J        = 1.0 / (J_ex - J_bg)\n",
    "    factor_exp_term = 1.0 / (1.0 - np.exp((-h * freq / (k_B * T_ex)).decompose().value))\n",
    "    factor_level    = Q_rot / (g_l * np.exp((-E_l / (k_B * T_ex)).decompose().value))\n",
    "    \n",
    "    fcol = top_factor * factor_degen * factor_J * factor_exp_term * factor_level\n",
    "    \n",
    "    # -----------------------------\n",
    "    # Compute the column density (N) in cm^-2.\n",
    "    # (I is in K km/s; 'conv' converts to appropriate base units.)\n",
    "    # -----------------------------\n",
    "    N_val = I *  fcol\n",
    "    N_err = eI * fcol\n",
    "\n",
    "    # Likely the units come out as m^-2; convert to cm^-2.\n",
    "    N = N_val.to(u.cm**-2)\n",
    "    N_err = N_err.to(u.cm**-2)\n",
    "    \n",
    "    return N, N_err"
   ]
  },
  {
   "cell_type": "code",
   "execution_count": null,
   "metadata": {},
   "outputs": [],
   "source": [
    "# ------------------------------------------------------------------------------\n",
    "# Example usage for C18O (1–0)\n",
    "# ------------------------------------------------------------------------------\n",
    "\n",
    "I_c18o  = 1.0 * u.K * u.km / u.s   # example integrated intensity\n",
    "eI_c18o = 0.1 * u.K * u.km / u.s   # example uncertainty\n",
    "T_ex    = 7.5                  # excitation temperature in K (typical for CO)\n",
    "T_bg    = 2.72548                # background (CMB) temperature in K\n",
    "\n",
    "# Constants for C18O (1–0)\n",
    "freq_c18o = 109.7821734e9 * u.Hz   # frequency in Hz \n",
    "A_c18o    = 6.266e-8 / u.s         # Einstein A coefficient in s^-1 \n",
    "B_c18o    = 54.89142e9 * u.Hz      # Rotational constant in Hz\n",
    "l_c18o    = 0.0                  # lower level quantum number (J = 0)\n",
    "u_c18o    = 1.0                  # upper level quantum number (J = 1)\n",
    "\n",
    "N_c18o, eN_c18o = compute_column_density(I_c18o, eI_c18o,\n",
    "                                         T_ex, T_bg,\n",
    "                                         freq_c18o, A_c18o, B_c18o,\n",
    "                                         l_c18o, u_c18o, maxJ=10)\n",
    "print(\"\\nC18O (1–0):\")\n",
    "print(\"  Column density =\", N_c18o.to(u.cm**-2)/1e14)\n",
    "print(\"  Error           =\", eN_c18o.to(u.dex(u.cm**-2)))"
   ]
  },
  {
   "cell_type": "code",
   "execution_count": 24,
   "metadata": {},
   "outputs": [],
   "source": [
    "hdu_f_D = fits.PrimaryHDU(f_D.value, header=header_c180)\n",
    "hdu_f_D.writeto('./data/f_D.fits', overwrite=True)"
   ]
  },
  {
   "cell_type": "code",
   "execution_count": 25,
   "metadata": {},
   "outputs": [
    {
     "name": "stderr",
     "output_type": "stream",
     "text": [
      "/var/folders/3y/cmsgt3_x7x72bbs__zhy_q6h0008wr/T/ipykernel_17465/1945690250.py:4: RuntimeWarning: invalid value encountered in log10\n",
      "  plt.hist(np.log10(N_H2_ext.value.flatten()), bins=100, histtype='step', label='N_H2_ext')\n"
     ]
    },
    {
     "data": {
      "text/plain": [
       "Text(0, 0.5, 'N')"
      ]
     },
     "execution_count": 25,
     "metadata": {},
     "output_type": "execute_result"
    },
    {
     "data": {
      "image/png": "[encoded data removed]",
      "text/plain": [
       "<Figure size 640x480 with 1 Axes>"
      ]
     },
     "metadata": {},
     "output_type": "display_data"
    }
   ],
   "source": [
    "# plot hist of N_H2\n",
    "plt.figure()\n",
    "plt.hist(np.log10(N_H2_CO.value.flatten()), bins=100, histtype='step', label='N_H2_CO')\n",
    "plt.hist(np.log10(N_H2_ext.value.flatten()), bins=100, histtype='step', label='N_H2_ext')\n",
    "plt.legend()\n",
    "plt.xlabel('log10(N_H2)')\n",
    "plt.ylabel('N')"
   ]
  },
  {
   "cell_type": "code",
   "execution_count": 6,
   "metadata": {},
   "outputs": [
    {
     "data": {
      "text/plain": [
       "Text(0, 0.5, 'N')"
      ]
     },
     "execution_count": 6,
     "metadata": {},
     "output_type": "execute_result"
    },
    {
     "data": {
      "image/png": "[encoded data removed]",
      "text/plain": [
       "<Figure size 640x480 with 1 Axes>"
      ]
     },
     "metadata": {},
     "output_type": "display_data"
    }
   ],
   "source": [
    "# plot hist of f_D\n",
    "plt.figure()\n",
    "plt.hist(f_D.value.flatten(), bins=100, histtype='step')\n",
    "plt.xlabel('f_D')\n",
    "plt.ylabel('N')"
   ]
  },
  {
   "cell_type": "code",
   "execution_count": null,
   "metadata": {},
   "outputs": [],
   "source": []
  }
 ],
 "metadata": {
  "kernelspec": {
   "display_name": "base",
   "language": "python",
   "name": "python3"
  },
  "language_info": {
   "codemirror_mode": {
    "name": "ipython",
    "version": 3
   },
   "file_extension": ".py",
   "mimetype": "text/x-python",
   "name": "python",
   "nbconvert_exporter": "python",
   "pygments_lexer": "ipython3",
   "version": "3.12.7"
  }
 },
 "nbformat": 4,
 "nbformat_minor": 2
}
