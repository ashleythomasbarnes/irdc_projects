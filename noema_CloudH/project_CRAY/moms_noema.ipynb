{
 "cells": [
  {
   "cell_type": "code",
   "execution_count": 1,
   "metadata": {},
   "outputs": [],
   "source": [
    "from spectral_cube_plus import SpectralCubePlus\n",
    "from astropy import units as u\n",
    "from glob import glob "
   ]
  },
  {
   "cell_type": "markdown",
   "metadata": {},
   "source": [
    "# Individual Masking"
   ]
  },
  {
   "cell_type": "code",
   "execution_count": 2,
   "metadata": {},
   "outputs": [
    {
     "data": {
      "text/plain": [
       "['/Users/abarnes/Library/CloudStorage/Dropbox/Data//Galactic/NOEMA/data/CloudH_lines/CloudH_HNC_L27-merged.fits',\n",
       " '/Users/abarnes/Library/CloudStorage/Dropbox/Data//Galactic/NOEMA/data/CloudH_lines/CloudH_HCN_L22-merged.fits',\n",
       " '/Users/abarnes/Library/CloudStorage/Dropbox/Data//Galactic/NOEMA/data/CloudH_lines/CloudH_N2Dp_L18-merged.fits',\n",
       " '/Users/abarnes/Library/CloudStorage/Dropbox/Data//Galactic/NOEMA/data/CloudH_lines/CloudH_DCOp_L09-merged.fits',\n",
       " '/Users/abarnes/Library/CloudStorage/Dropbox/Data//Galactic/NOEMA/data/CloudH_lines/CloudH_DNC_L16-merged.fits',\n",
       " '/Users/abarnes/Library/CloudStorage/Dropbox/Data//Galactic/NOEMA/data/CloudH_lines/CloudH_H15NC_L23-merged.fits',\n",
       " '/Users/abarnes/Library/CloudStorage/Dropbox/Data//Galactic/NOEMA/data/CloudH_lines/CloudH_HCOp_L25-merged.fits',\n",
       " '/Users/abarnes/Library/CloudStorage/Dropbox/Data//Galactic/NOEMA/data/CloudH_lines/CloudH_DCN_L10-merged.fits',\n",
       " '/Users/abarnes/Library/CloudStorage/Dropbox/Data//Galactic/NOEMA/data/CloudH_lines/CloudH_N2Hp_L30-merged.fits']"
      ]
     },
     "execution_count": 2,
     "metadata": {},
     "output_type": "execute_result"
    }
   ],
   "source": [
    "input_files = glob(f\"{DATA_PATH}/Galactic/NOEMA/data/CloudH_lines/*.fits\")\n",
    "input_files"
   ]
  },
  {
   "cell_type": "code",
   "execution_count": 7,
   "metadata": {},
   "outputs": [
    {
     "name": "stdout",
     "output_type": "stream",
     "text": [
      "/Users/abarnes/Library/CloudStorage/Dropbox/Data//Galactic/NOEMA/data/CloudH_lines/CloudH_HNC_L27-merged.fits\n",
      "/Users/abarnes/Library/CloudStorage/Dropbox/Data//Galactic/NOEMA/data/CloudH_lines/CloudH_HCN_L22-merged.fits\n",
      "/Users/abarnes/Library/CloudStorage/Dropbox/Data//Galactic/NOEMA/data/CloudH_lines/CloudH_N2Dp_L18-merged.fits\n",
      "   N2Dp - changing rest frequency\n",
      "/Users/abarnes/Library/CloudStorage/Dropbox/Data//Galactic/NOEMA/data/CloudH_lines/CloudH_DCOp_L09-merged.fits\n",
      "/Users/abarnes/Library/CloudStorage/Dropbox/Data//Galactic/NOEMA/data/CloudH_lines/CloudH_DNC_L16-merged.fits\n",
      "/Users/abarnes/Library/CloudStorage/Dropbox/Data//Galactic/NOEMA/data/CloudH_lines/CloudH_H15NC_L23-merged.fits\n",
      "/Users/abarnes/Library/CloudStorage/Dropbox/Data//Galactic/NOEMA/data/CloudH_lines/CloudH_HCOp_L25-merged.fits\n",
      "/Users/abarnes/Library/CloudStorage/Dropbox/Data//Galactic/NOEMA/data/CloudH_lines/CloudH_DCN_L10-merged.fits\n",
      "/Users/abarnes/Library/CloudStorage/Dropbox/Data//Galactic/NOEMA/data/CloudH_lines/CloudH_N2Hp_L30-merged.fits\n",
      "   N2Hp - changing rest frequency\n"
     ]
    }
   ],
   "source": [
    "restfreqs = {'N2Hp': 93.1733977 * u.GHz,\n",
    "             'N2Dp': 77.1092433 * u.GHz,}\n",
    "\n",
    "for input_file in input_files:\n",
    "    \n",
    "    print(input_file)\n",
    "\n",
    "    cube = SpectralCubePlus.read(input_file)\n",
    "    cube.allow_huge_operations = True\n",
    "    if 'N2Hp' in input_file:\n",
    "        print('   N2Hp - changing rest frequency')\n",
    "        cube = cube.with_spectral_unit(u.km / u.s, rest_value=restfreqs['N2Hp']) \n",
    "    elif 'N2Dp' in input_file:\n",
    "        print('   N2Dp - changing rest frequency')\n",
    "        cube = cube.with_spectral_unit(u.km / u.s, rest_value=restfreqs['N2Dp'])\n",
    "    else: \n",
    "        continue\n",
    "        print('No rest frequency change')\n",
    "        cube = cube.with_spectral_unit(u.km / u.s) \n",
    "    cube = cube.to('K')\n",
    "    cube = cube.minimal_subcube()\n",
    "\n",
    "    cube.writeto(input_file, overwrite=True)"
   ]
  },
  {
   "cell_type": "code",
   "execution_count": 4,
   "metadata": {},
   "outputs": [],
   "source": [
    "# for input_file in input_files:\n",
    "    \n",
    "#     print(input_file)\n",
    "#     output_file = input_file.replace('CloudH_lines', 'CloudH_lines_moms') \n",
    "\n",
    "#     cube = SpectralCubePlus.read(input_file)\n",
    "#     cube.allow_huge_operations = True\n",
    "#     cube = cube.with_spectral_unit(u.km / u.s) \n",
    "#     cube = cube.to('K')\n",
    "\n",
    "#     rms = cube.get_rms_auto()\n",
    "#     mask = cube < cube.rms\n",
    "#     rms = cube.get_rms_auto(mask)\n",
    "\n",
    "#     _ = cube.get_expmask(hthresh=4, lthresh=2)\n",
    "\n",
    "#     mom8 = cube.masked.max(axis=0)\n",
    "#     mom0 = cube.masked.moment0()\n",
    "#     mom0err = cube.masked.moment0err()\n",
    "\n",
    "#     mom8.write(output_file.replace('.fits', '_max.fits'), overwrite=True)\n",
    "#     mom0.write(output_file.replace('.fits', '_mom0.fits'), overwrite=True)\n",
    "#     mom0err.write(output_file.replace('.fits', '_mom0err.fits'), overwrite=True)"
   ]
  },
  {
   "cell_type": "markdown",
   "metadata": {},
   "source": [
    "# N2H+ Isolated"
   ]
  },
  {
   "cell_type": "code",
   "execution_count": 9,
   "metadata": {},
   "outputs": [],
   "source": [
    "file_n2hp = '/Users/abarnes/Library/CloudStorage/Dropbox/Data//Galactic/NOEMA/data/CloudH_lines/CloudH_N2Hp_L30-merged.fits'"
   ]
  },
  {
   "cell_type": "code",
   "execution_count": null,
   "metadata": {},
   "outputs": [
    {
     "name": "stdout",
     "output_type": "stream",
     "text": [
      "/Users/abarnes/Library/CloudStorage/Dropbox/Data//Galactic/NOEMA/data/CloudH_lines/CloudH_N2Hp_L30-merged.fits\n"
     ]
    },
    {
     "name": "stderr",
     "output_type": "stream",
     "text": [
      "WARNING: PossiblySlowWarning: This function (<function BaseSpectralCube.max at 0x1492c7100>) requires loading the entire cube into memory and may therefore be slow. [spectral_cube.utils]\n",
      "/opt/anaconda3/lib/python3.12/site-packages/spectral_cube/spectral_cube.py:436: RuntimeWarning: All-NaN slice encountered\n",
      "  out = function(self._get_filled_data(fill=fill,\n"
     ]
    }
   ],
   "source": [
    "def get_moms(input_file, velo_slab=None):\n",
    "\n",
    "    print(input_file)\n",
    "    output_file = input_file.replace('CloudH_lines', 'CloudH_lines_moms') \n",
    "\n",
    "    cube = SpectralCubePlus.read(input_file)\n",
    "    cube.allow_huge_operations = True\n",
    "    cube = cube.with_spectral_unit(u.km / u.s) \n",
    "    cube = cube.to('K')\n",
    "\n",
    "    rms = cube.get_rms_auto()\n",
    "    mask = cube < cube.rms\n",
    "    rms = cube.get_rms_auto(mask)\n",
    "    rms_hdu = cube.rms_hdu\n",
    "\n",
    "    if velo_slab is not None:\n",
    "        # Limit to 40 to 50 km/s - see in Hernandez et al. 2011\n",
    "        cube = cube.spectral_slab(velo_slab[0]*u.km/u.s, velo_slab[1]*u.km/u.s)\n",
    "        cube.rms = rms\n",
    "        cube.rms_hdu = rms_hdu\n",
    "\n",
    "    _ = cube.get_expmask(hthresh=4, lthresh=2)\n",
    "\n",
    "    mom8 = cube.masked.max(axis=0)\n",
    "    mom0 = cube.masked.moment0()\n",
    "    mom0err = cube.masked.moment0err()\n",
    "\n",
    "    mom8.write(output_file.replace('.fits', '_iso_max.fits'), overwrite=True)\n",
    "    mom0.write(output_file.replace('.fits', '_iso_mom0.fits'), overwrite=True)\n",
    "    mom0err.write(output_file.replace('.fits', '_iso_mom0err.fits'), overwrite=True)\n",
    "\n",
    "    return cube \n",
    "\n",
    "cube_n2hp = get_moms(file_n2hp, velo_slab=[30, 40])"
   ]
  },
  {
   "cell_type": "code",
   "execution_count": null,
   "metadata": {},
   "outputs": [],
   "source": []
  }
 ],
 "metadata": {
  "kernelspec": {
   "display_name": "base",
   "language": "python",
   "name": "python3"
  },
  "language_info": {
   "codemirror_mode": {
    "name": "ipython",
    "version": 3
   },
   "file_extension": ".py",
   "mimetype": "text/x-python",
   "name": "python",
   "nbconvert_exporter": "python",
   "pygments_lexer": "ipython3",
   "version": "3.12.7"
  }
 },
 "nbformat": 4,
 "nbformat_minor": 2
}
