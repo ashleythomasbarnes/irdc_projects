{
 "cells": [
  {
   "cell_type": "markdown",
   "metadata": {},
   "source": [
    "# Reproject script \n",
    "Simple script to reproject all the maps to the N2D+ pixel grid (no smoothing)"
   ]
  },
  {
   "cell_type": "code",
   "execution_count": 1,
   "metadata": {},
   "outputs": [],
   "source": [
    "from reproject import reproject_interp\n",
    "import numpy as np\n",
    "import matplotlib.pyplot as plt\n",
    "from astropy.io import fits\n",
    "from astropy.wcs import WCS"
   ]
  },
  {
   "cell_type": "code",
   "execution_count": 5,
   "metadata": {},
   "outputs": [
    {
     "name": "stderr",
     "output_type": "stream",
     "text": [
      "WARNING: VerifyWarning: Invalid 'BLANK' keyword in header.  The 'BLANK' keyword is only applicable to integer data, and will be ignored in this HDU. [astropy.io.fits.hdu.image]\n",
      "WARNING: FITSFixedWarning: 'datfix' made the change 'Set MJD-OBS to 55028.000000 from DATE-OBS'. [astropy.wcs.wcs]\n",
      "WARNING: FITSFixedWarning: 'celfix' made the change 'Success'. [astropy.wcs.wcs]\n"
     ]
    }
   ],
   "source": [
    "file_n2dp =     f'{DATA_PATH}/Galactic/NOEMA/data/CloudH_lines_moms/CloudH_N2Dp_L18-merged_mom0.fits'\n",
    "file_n2dp_err = f'{DATA_PATH}/Galactic/NOEMA/data/CloudH_lines_moms/CloudH_N2Dp_L18-merged_mom0err.fits'\n",
    "file_n2hp =     f'{DATA_PATH}/Galactic/NOEMA/data/CloudH_lines_moms/CloudH_N2Hp_L30-merged_iso_mom0.fits'\n",
    "file_n2hp_err = f'{DATA_PATH}/Galactic/NOEMA/data/CloudH_lines_moms/CloudH_N2Hp_L30-merged_iso_mom0err.fits'\n",
    "file_dcop =     f'{DATA_PATH}/Galactic/NOEMA/data/CloudH_lines_moms/CloudH_DCOp_L09-merged_mom0.fits'\n",
    "file_c18o =     f'{DATA_PATH}/Galactic/GBT/Cloud_H/ClH_C18O_bl_40to50kms_mom0.fits'\n",
    "file_c18o_err = f'{DATA_PATH}/Galactic/GBT/Cloud_H/ClH_C18O_bl_40to50kms_mom0err.fits'\n",
    "file_tkin =     f'{DATA_PATH}/Galactic/VLA/cloudH_temp/figure7_tkin_F2.fits'\n",
    "file_msd =      f'{DATA_PATH}/Galactic/KT_extinction_maps/new/data/cloudH.msd.fits'\n",
    "file_fd =       f'./data/fpD_H11.fits'\n",
    "\n",
    "hdu_n2dp = fits.open(file_n2dp)[0]\n",
    "hdu_n2dp_err = fits.open(file_n2dp_err)[0]\n",
    "hdu_n2hp = fits.open(file_n2hp)[0]\n",
    "hdu_n2hp_err = fits.open(file_n2hp_err)[0]\n",
    "hdu_dcop = fits.open(file_dcop)[0]\n",
    "hdu_c18o = fits.open(file_c18o)[0]\n",
    "hdu_tkin = fits.open(file_tkin)[0]\n",
    "hdu_msd = fits.open(file_msd)[0]\n",
    "hdu_fd = fits.open(file_fd)[0]\n",
    "\n",
    "# Remove addition header information\n",
    "hdu_tkin.data = hdu_tkin.data[0]\n",
    "del hdu_tkin.header['*3*']\n",
    "hdu_tkin.header['WCSAXES'] = 2\n",
    "\n",
    "# Fix header\n",
    "header_tmp = WCS(hdu_fd.header).to_header()\n",
    "for key in header_tmp:\n",
    "    hdu_fd.header[key] = header_tmp[key]"
   ]
  },
  {
   "cell_type": "code",
   "execution_count": 6,
   "metadata": {},
   "outputs": [
    {
     "name": "stderr",
     "output_type": "stream",
     "text": [
      "WARNING: FITSFixedWarning: 'obsfix' made the change 'Set OBSGEO-L to  -107.618000 from OBSGEO-[XYZ].\n",
      "Set OBSGEO-B to    34.078827 from OBSGEO-[XYZ].\n",
      "Set OBSGEO-H to     2115.607 from OBSGEO-[XYZ]'. [astropy.wcs.wcs]\n"
     ]
    }
   ],
   "source": [
    "# reproject the N2H+ and C18O onto the N2D+ grid\n",
    "array_n2hp, footprint = reproject_interp(hdu_n2hp, hdu_n2dp.header)\n",
    "array_n2hp_err, footprint = reproject_interp(hdu_n2hp_err, hdu_n2dp.header)\n",
    "array_dcop, footprint = reproject_interp(hdu_dcop, hdu_n2dp.header)\n",
    "array_c18o, footprint = reproject_interp(hdu_c18o, hdu_n2dp.header)\n",
    "array_tkin, footprint = reproject_interp(hdu_tkin, hdu_n2dp.header)\n",
    "array_msd, footprint = reproject_interp(hdu_msd, hdu_n2dp.header)\n",
    "array_fd, footprint = reproject_interp(hdu_fd, hdu_n2dp.header, order=0)"
   ]
  },
  {
   "cell_type": "code",
   "execution_count": 7,
   "metadata": {},
   "outputs": [],
   "source": [
    "# make new headers using the old header and only replacing the CDELT, CRPIX, and NAXIS info\n",
    "header_n2dp = hdu_n2dp.header\n",
    "header_dcop = hdu_dcop.header\n",
    "header_n2hp = hdu_n2hp.header\n",
    "header_n2hp_err = hdu_n2hp_err.header\n",
    "header_c18o = hdu_c18o.header\n",
    "header_tkin = hdu_tkin.header\n",
    "header_msd = hdu_msd.header\n",
    "header_fd = hdu_fd.header\n",
    "\n",
    "for key in header_n2dp:\n",
    "    if key in ['CDELT1', 'CDELT2', 'CRPIX1', 'CRPIX2', 'NAXIS1', 'NAXIS2', 'CTYPE1', 'CTYPE2', 'CUNIT1', 'CUNIT2', 'CRVAL1', 'CRVAL2']:\n",
    "        header_n2hp[key] = header_n2dp[key]\n",
    "        header_n2hp_err[key] = header_n2dp[key]\n",
    "        header_dcop[key] = header_n2dp[key]\n",
    "        header_c18o[key] = header_n2dp[key]\n",
    "        header_tkin[key] = header_n2dp[key]\n",
    "        header_msd[key] = header_n2dp[key]\n",
    "        header_fd[key] = header_n2dp[key]\n",
    "\n",
    "# make hdus \n",
    "hdu_n2hp = fits.PrimaryHDU(array_n2hp, header_n2hp)\n",
    "hdu_n2hp_err = fits.PrimaryHDU(array_n2hp_err, header_n2hp_err)\n",
    "hdu_dcop = fits.PrimaryHDU(array_dcop, header_dcop)\n",
    "hdu_c18o = fits.PrimaryHDU(array_c18o, header_c18o)\n",
    "hdu_tkin = fits.PrimaryHDU(array_tkin, header_tkin)\n",
    "hdu_msd = fits.PrimaryHDU(array_msd, header_msd)\n",
    "hdu_fd = fits.PrimaryHDU(array_fd, header_fd)\n",
    "\n",
    "# write out the new files\n",
    "hdu_n2dp.writeto('./data/n2dp_mom0.fits', overwrite=True)\n",
    "hdu_n2dp_err.writeto('./data/n2dp_mom0err.fits', overwrite=True)\n",
    "hdu_dcop.writeto('./data/dcop_mom0_reprojected.fits', overwrite=True)\n",
    "hdu_n2hp.writeto('./data/n2hp_mom0_reprojected.fits', overwrite=True)\n",
    "hdu_n2hp_err.writeto('./data/n2hp_mom0err_reprojected.fits', overwrite=True)\n",
    "hdu_c18o.writeto('./data/c18o_mom0_reprojected.fits', overwrite=True)\n",
    "hdu_tkin.writeto('./data/tkin_reprojected.fits', overwrite=True)\n",
    "hdu_msd.writeto('./data/msd_reprojected.fits', overwrite=True)\n",
    "hdu_fd.writeto('./data/fpD_H11_reprojected.fits', overwrite=True)"
   ]
  },
  {
   "cell_type": "code",
   "execution_count": null,
   "metadata": {},
   "outputs": [],
   "source": []
  }
 ],
 "metadata": {
  "kernelspec": {
   "display_name": "base",
   "language": "python",
   "name": "python3"
  },
  "language_info": {
   "codemirror_mode": {
    "name": "ipython",
    "version": 3
   },
   "file_extension": ".py",
   "mimetype": "text/x-python",
   "name": "python",
   "nbconvert_exporter": "python",
   "pygments_lexer": "ipython3",
   "version": "3.12.7"
  }
 },
 "nbformat": 4,
 "nbformat_minor": 2
}
