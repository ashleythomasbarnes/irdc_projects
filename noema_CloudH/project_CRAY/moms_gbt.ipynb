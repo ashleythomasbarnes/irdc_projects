{
 "cells": [
  {
   "cell_type": "code",
   "execution_count": 10,
   "metadata": {},
   "outputs": [],
   "source": [
    "from spectral_cube_plus import SpectralCubePlus\n",
    "from astropy import units as u\n",
    "from glob import glob "
   ]
  },
  {
   "cell_type": "code",
   "execution_count": 15,
   "metadata": {},
   "outputs": [
    {
     "data": {
      "text/plain": [
       "['/Users/abarnes/Library/CloudStorage/Dropbox/Data//Galactic/GBT/Cloud_H/ClH_C18O_bl.fits',\n",
       " '/Users/abarnes/Library/CloudStorage/Dropbox/Data//Galactic/GBT/Cloud_H/ClH_13CO_bl.fits']"
      ]
     },
     "execution_count": 15,
     "metadata": {},
     "output_type": "execute_result"
    }
   ],
   "source": [
    "input_files = glob(f\"{DATA_PATH}/Galactic/GBT/Cloud_H/*_bl.fits\")\n",
    "input_files"
   ]
  },
  {
   "cell_type": "code",
   "execution_count": 8,
   "metadata": {},
   "outputs": [
    {
     "name": "stdout",
     "output_type": "stream",
     "text": [
      "/Users/abarnes/Dropbox/work/Projects/GBT/Cloud_H/ClH_C18O_bl.fits\n"
     ]
    },
    {
     "name": "stderr",
     "output_type": "stream",
     "text": [
      "WARNING: StokesWarning: Cube is a Stokes cube, returning spectral cube for I component [spectral_cube.io.core]\n",
      "WARNING: PossiblySlowWarning: This function (<function BaseSpectralCube.to at 0x12cb23eb0>) requires loading the entire cube into memory and may therefore be slow. [spectral_cube.utils]\n",
      "WARNING: PossiblySlowWarning: This function (<function BaseSpectralCube.max at 0x12cb21000>) requires loading the entire cube into memory and may therefore be slow. [spectral_cube.utils]\n",
      "/Users/abarnes/opt/anaconda3/envs/python3p10/lib/python3.10/site-packages/spectral_cube/spectral_cube.py:439: RuntimeWarning: All-NaN slice encountered\n",
      "  out = function(self._get_filled_data(fill=fill,\n"
     ]
    },
    {
     "name": "stdout",
     "output_type": "stream",
     "text": [
      "/Users/abarnes/Dropbox/work/Projects/GBT/Cloud_H/ClH_13CO_bl.fits\n"
     ]
    },
    {
     "name": "stderr",
     "output_type": "stream",
     "text": [
      "WARNING: StokesWarning: Cube is a Stokes cube, returning spectral cube for I component [spectral_cube.io.core]\n",
      "WARNING: PossiblySlowWarning: This function (<function BaseSpectralCube.to at 0x12cb23eb0>) requires loading the entire cube into memory and may therefore be slow. [spectral_cube.utils]\n",
      "WARNING: PossiblySlowWarning: This function (<function BaseSpectralCube.max at 0x12cb21000>) requires loading the entire cube into memory and may therefore be slow. [spectral_cube.utils]\n",
      "/Users/abarnes/opt/anaconda3/envs/python3p10/lib/python3.10/site-packages/spectral_cube/spectral_cube.py:439: RuntimeWarning: All-NaN slice encountered\n",
      "  out = function(self._get_filled_data(fill=fill,\n"
     ]
    }
   ],
   "source": [
    "for input_file in input_files:\n",
    "    \n",
    "    print(input_file)\n",
    "    output_file = input_file\n",
    "\n",
    "    cube = SpectralCubePlus.read(input_file)\n",
    "    cube.allow_huge_operations = True\n",
    "    cube = cube.with_spectral_unit(u.km / u.s, velocity_convention='radio') \n",
    "    cube = cube.to('K')\n",
    "\n",
    "    rms = cube.get_rms_auto()\n",
    "    mask = cube < cube.rms\n",
    "    rms = cube.get_rms_auto(mask)\n",
    "\n",
    "    _ = cube.get_expmask(hthresh=4, lthresh=2)\n",
    "\n",
    "    mom8 = cube.masked.max(axis=0)\n",
    "    mom0 = cube.masked.moment0()\n",
    "    mom0err = cube.masked.moment0err()\n",
    "\n",
    "    mom8.write(output_file.replace('.fits', '_max.fits'), overwrite=True)\n",
    "    mom0.write(output_file.replace('.fits', '_mom0.fits'), overwrite=True)\n",
    "    mom0err.write(output_file.replace('.fits', '_mom0err.fits'), overwrite=True)"
   ]
  },
  {
   "cell_type": "code",
   "execution_count": null,
   "metadata": {},
   "outputs": [
    {
     "name": "stdout",
     "output_type": "stream",
     "text": [
      "/Users/abarnes/Library/CloudStorage/Dropbox/Data//Galactic/GBT/Cloud_H/ClH_C18O_bl.fits\n"
     ]
    },
    {
     "name": "stderr",
     "output_type": "stream",
     "text": [
      "WARNING: StokesWarning: Cube is a Stokes cube, returning spectral cube for I component [spectral_cube.io.core]\n",
      "WARNING: PossiblySlowWarning: This function (<function BaseSpectralCube.max at 0x12771f1a0>) requires loading the entire cube into memory and may therefore be slow. [spectral_cube.utils]\n",
      "/opt/anaconda3/lib/python3.12/site-packages/spectral_cube/spectral_cube.py:436: RuntimeWarning: All-NaN slice encountered\n",
      "  out = function(self._get_filled_data(fill=fill,\n",
      "WARNING: StokesWarning: Cube is a Stokes cube, returning spectral cube for I component [spectral_cube.io.core]\n"
     ]
    },
    {
     "name": "stdout",
     "output_type": "stream",
     "text": [
      "/Users/abarnes/Library/CloudStorage/Dropbox/Data//Galactic/GBT/Cloud_H/ClH_13CO_bl.fits\n"
     ]
    },
    {
     "name": "stderr",
     "output_type": "stream",
     "text": [
      "WARNING: PossiblySlowWarning: This function (<function BaseSpectralCube.max at 0x12771f1a0>) requires loading the entire cube into memory and may therefore be slow. [spectral_cube.utils]\n",
      "/opt/anaconda3/lib/python3.12/site-packages/spectral_cube/spectral_cube.py:436: RuntimeWarning: All-NaN slice encountered\n",
      "  out = function(self._get_filled_data(fill=fill,\n"
     ]
    }
   ],
   "source": [
    "for input_file in input_files:\n",
    "    \n",
    "    print(input_file)\n",
    "    output_file = input_file\n",
    "\n",
    "    cube = SpectralCubePlus.read(input_file)\n",
    "    cube.allow_huge_operations = True\n",
    "    cube = cube.with_spectral_unit(u.km / u.s, velocity_convention='radio') \n",
    "    cube = cube.to('K')\n",
    "\n",
    "    rms = cube.get_rms_auto()\n",
    "    mask = cube < cube.rms\n",
    "    rms = cube.get_rms_auto(mask)\n",
    "    rms_hdu = cube.rms_hdu\n",
    "\n",
    "    # Limit to 40 to 50 km/s - see in Hernandez et al. 2011\n",
    "    cube = cube.spectral_slab(40*u.km/u.s, 50*u.km/u.s)\n",
    "    cube.rms = rms\n",
    "    cube.rms_hdu = rms_hdu\n",
    "    \n",
    "    _ = cube.get_expmask(hthresh=4, lthresh=2)\n",
    "\n",
    "    mom8 = cube.masked.max(axis=0)\n",
    "    mom0 = cube.masked.moment0()\n",
    "    mom0err = cube.masked.moment0err()\n",
    "\n",
    "    mom8.write(output_file.replace('.fits', '_40to50kms_max.fits'), overwrite=True)\n",
    "    mom0.write(output_file.replace('.fits', '_40to50kms_mom0.fits'), overwrite=True)\n",
    "    mom0err.write(output_file.replace('.fits', '_40to50kms_mom0err.fits'), overwrite=True)"
   ]
  }
 ],
 "metadata": {
  "kernelspec": {
   "display_name": "base",
   "language": "python",
   "name": "python3"
  },
  "language_info": {
   "codemirror_mode": {
    "name": "ipython",
    "version": 3
   },
   "file_extension": ".py",
   "mimetype": "text/x-python",
   "name": "python",
   "nbconvert_exporter": "python",
   "pygments_lexer": "ipython3",
   "version": "3.12.7"
  }
 },
 "nbformat": 4,
 "nbformat_minor": 2
}
